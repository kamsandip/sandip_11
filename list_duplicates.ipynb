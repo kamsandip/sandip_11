{
 "cells": [
  {
   "cell_type": "code",
   "execution_count": 1,
   "id": "e7af6a69",
   "metadata": {},
   "outputs": [],
   "source": [
    "# Remove duplicates from a list"
   ]
  },
  {
   "cell_type": "code",
   "execution_count": 2,
   "id": "49ca08c4",
   "metadata": {},
   "outputs": [
    {
     "name": "stdout",
     "output_type": "stream",
     "text": [
      "{40, 10, 80, 50, 20, 60, 30}\n"
     ]
    }
   ],
   "source": [
    "# Define a list 'a' with some duplicate and unique elements\n",
    "a = [10, 20, 30, 20, 10, 50, 60, 40, 80, 50, 40]\n",
    "\n",
    "# Create an empty set to store duplicate items and an empty list for unique items\n",
    "dup_items = set()\n",
    "uniq_items = []\n",
    "\n",
    "# Iterate through each element 'x' in the list 'a'\n",
    "for x in a:\n",
    "    # Check if the current element 'x' is not already in the set 'dup_items' (it's a duplicate check)\n",
    "    if x not in dup_items:\n",
    "        # If 'x' is not a duplicate, add it to the 'uniq_items' list\n",
    "        uniq_items.append(x)\n",
    "        # Add 'x' to the 'dup_items' set to mark it as a seen item\n",
    "        dup_items.add(x)\n",
    "\n",
    "# Print the set 'dup_items' which now contains the unique elements from the original list 'a'\n",
    "print(dup_items)"
   ]
  },
  {
   "cell_type": "code",
   "execution_count": 3,
   "id": "46f1cab7",
   "metadata": {},
   "outputs": [
    {
     "data": {
      "text/plain": [
       "[10, 20, 30, 20, 10, 50, 60, 40, 80, 50, 40]"
      ]
     },
     "execution_count": 3,
     "metadata": {},
     "output_type": "execute_result"
    }
   ],
   "source": [
    "a"
   ]
  },
  {
   "cell_type": "code",
   "execution_count": 4,
   "id": "d15a5bb0",
   "metadata": {},
   "outputs": [
    {
     "name": "stdout",
     "output_type": "stream",
     "text": [
      "[10, 20, 30, 50, 60, 40, 80]\n"
     ]
    }
   ],
   "source": [
    "print(uniq_items)"
   ]
  },
  {
   "cell_type": "code",
   "execution_count": 1,
   "id": "016edc0b",
   "metadata": {},
   "outputs": [],
   "source": [
    "s=[5,7,8,43,3,5,2,5,7,8,3]"
   ]
  },
  {
   "cell_type": "code",
   "execution_count": 4,
   "id": "cd5b77c1",
   "metadata": {},
   "outputs": [],
   "source": [
    "d=set()\n",
    "u=[]\n",
    "for x in s:\n",
    "    if x not in d:\n",
    "        u.append(x)\n",
    "        d.add(x)"
   ]
  },
  {
   "cell_type": "code",
   "execution_count": 5,
   "id": "aa6a1167",
   "metadata": {},
   "outputs": [
    {
     "data": {
      "text/plain": [
       "{2, 3, 5, 7, 8, 43}"
      ]
     },
     "execution_count": 5,
     "metadata": {},
     "output_type": "execute_result"
    }
   ],
   "source": [
    "d"
   ]
  },
  {
   "cell_type": "code",
   "execution_count": 6,
   "id": "543566a2",
   "metadata": {},
   "outputs": [
    {
     "data": {
      "text/plain": [
       "[5, 7, 8, 43, 3, 2]"
      ]
     },
     "execution_count": 6,
     "metadata": {},
     "output_type": "execute_result"
    }
   ],
   "source": [
    "u"
   ]
  },
  {
   "cell_type": "code",
   "execution_count": null,
   "id": "813026c5",
   "metadata": {},
   "outputs": [],
   "source": []
  }
 ],
 "metadata": {
  "kernelspec": {
   "display_name": "Python 3 (ipykernel)",
   "language": "python",
   "name": "python3"
  },
  "language_info": {
   "codemirror_mode": {
    "name": "ipython",
    "version": 3
   },
   "file_extension": ".py",
   "mimetype": "text/x-python",
   "name": "python",
   "nbconvert_exporter": "python",
   "pygments_lexer": "ipython3",
   "version": "3.9.13"
  }
 },
 "nbformat": 4,
 "nbformat_minor": 5
}
